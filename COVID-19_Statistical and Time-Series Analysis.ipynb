{
 "cells": [
  {
   "cell_type": "code",
   "execution_count": 1,
   "metadata": {},
   "outputs": [],
   "source": [
    "import requests\n",
    "import pandas as pd\n",
    "import numpy as np\n",
    "import matplotlib.pyplot as plt"
   ]
  },
  {
   "cell_type": "code",
   "execution_count": 2,
   "metadata": {},
   "outputs": [],
   "source": [
    "response = requests.get(\"https://api.covid19india.org/data.json\")\n",
    "data1 = response.json()\n",
    "response1 = requests.get(\"https://thecampfire.in/api/daily_state_count\")\n",
    "data2 = response1.json()"
   ]
  },
  {
   "cell_type": "code",
   "execution_count": 3,
   "metadata": {},
   "outputs": [],
   "source": [
    "state_list = []\n",
    "for i in range (0, len(data2)-1):\n",
    "    state_names = (data2[i][0])\n",
    "    state_confirmed = (int(data2[i][1]['confirmed']))\n",
    "    state_deaths = (int(data2[i][1]['deaths']))\n",
    "    state_active = (int(data2[i][1]['active']))\n",
    "    state_list.append([state_names,state_confirmed,state_deaths,state_active])\n",
    "state_data = pd.DataFrame(state_list,\n",
    "              columns=['States','Confirmed_Cases', 'Deaths','Active'])"
   ]
  },
  {
   "cell_type": "code",
   "execution_count": 4,
   "metadata": {},
   "outputs": [
    {
     "data": {
      "text/html": [
       "<div>\n",
       "<style scoped>\n",
       "    .dataframe tbody tr th:only-of-type {\n",
       "        vertical-align: middle;\n",
       "    }\n",
       "\n",
       "    .dataframe tbody tr th {\n",
       "        vertical-align: top;\n",
       "    }\n",
       "\n",
       "    .dataframe thead th {\n",
       "        text-align: right;\n",
       "    }\n",
       "</style>\n",
       "<table border=\"1\" class=\"dataframe\">\n",
       "  <thead>\n",
       "    <tr style=\"text-align: right;\">\n",
       "      <th></th>\n",
       "      <th>States</th>\n",
       "      <th>Confirmed_Cases</th>\n",
       "      <th>Deaths</th>\n",
       "      <th>Active</th>\n",
       "    </tr>\n",
       "  </thead>\n",
       "  <tbody>\n",
       "    <tr>\n",
       "      <th>0</th>\n",
       "      <td>Andaman and Nicobar Islands</td>\n",
       "      <td>33</td>\n",
       "      <td>0</td>\n",
       "      <td>0</td>\n",
       "    </tr>\n",
       "    <tr>\n",
       "      <th>1</th>\n",
       "      <td>Andhra Pradesh</td>\n",
       "      <td>3676</td>\n",
       "      <td>64</td>\n",
       "      <td>1238</td>\n",
       "    </tr>\n",
       "    <tr>\n",
       "      <th>2</th>\n",
       "      <td>Arunachal Pradesh</td>\n",
       "      <td>20</td>\n",
       "      <td>0</td>\n",
       "      <td>19</td>\n",
       "    </tr>\n",
       "    <tr>\n",
       "      <th>3</th>\n",
       "      <td>Assam</td>\n",
       "      <td>1486</td>\n",
       "      <td>4</td>\n",
       "      <td>1194</td>\n",
       "    </tr>\n",
       "    <tr>\n",
       "      <th>4</th>\n",
       "      <td>Bihar</td>\n",
       "      <td>3945</td>\n",
       "      <td>23</td>\n",
       "      <td>2181</td>\n",
       "    </tr>\n",
       "  </tbody>\n",
       "</table>\n",
       "</div>"
      ],
      "text/plain": [
       "                        States  Confirmed_Cases  Deaths  Active\n",
       "0  Andaman and Nicobar Islands               33       0       0\n",
       "1               Andhra Pradesh             3676      64    1238\n",
       "2            Arunachal Pradesh               20       0      19\n",
       "3                        Assam             1486       4    1194\n",
       "4                        Bihar             3945      23    2181"
      ]
     },
     "execution_count": 4,
     "metadata": {},
     "output_type": "execute_result"
    }
   ],
   "source": [
    "state_data.head()"
   ]
  },
  {
   "cell_type": "code",
   "execution_count": 5,
   "metadata": {},
   "outputs": [
    {
     "data": {
      "text/html": [
       "<div>\n",
       "<style scoped>\n",
       "    .dataframe tbody tr th:only-of-type {\n",
       "        vertical-align: middle;\n",
       "    }\n",
       "\n",
       "    .dataframe tbody tr th {\n",
       "        vertical-align: top;\n",
       "    }\n",
       "\n",
       "    .dataframe thead th {\n",
       "        text-align: right;\n",
       "    }\n",
       "</style>\n",
       "<table border=\"1\" class=\"dataframe\">\n",
       "  <thead>\n",
       "    <tr style=\"text-align: right;\">\n",
       "      <th></th>\n",
       "      <th>States</th>\n",
       "      <th>Confirmed_Cases</th>\n",
       "      <th>Deaths</th>\n",
       "      <th>Active</th>\n",
       "    </tr>\n",
       "  </thead>\n",
       "  <tbody>\n",
       "    <tr>\n",
       "      <th>32</th>\n",
       "      <td>Telangana</td>\n",
       "      <td>2792</td>\n",
       "      <td>88</td>\n",
       "      <td>1213</td>\n",
       "    </tr>\n",
       "    <tr>\n",
       "      <th>33</th>\n",
       "      <td>Tripura</td>\n",
       "      <td>423</td>\n",
       "      <td>0</td>\n",
       "      <td>250</td>\n",
       "    </tr>\n",
       "    <tr>\n",
       "      <th>34</th>\n",
       "      <td>Uttar Pradesh</td>\n",
       "      <td>8361</td>\n",
       "      <td>222</td>\n",
       "      <td>3109</td>\n",
       "    </tr>\n",
       "    <tr>\n",
       "      <th>35</th>\n",
       "      <td>Uttarakhand</td>\n",
       "      <td>959</td>\n",
       "      <td>5</td>\n",
       "      <td>729</td>\n",
       "    </tr>\n",
       "    <tr>\n",
       "      <th>36</th>\n",
       "      <td>West Bengal</td>\n",
       "      <td>5772</td>\n",
       "      <td>325</td>\n",
       "      <td>3141</td>\n",
       "    </tr>\n",
       "  </tbody>\n",
       "</table>\n",
       "</div>"
      ],
      "text/plain": [
       "           States  Confirmed_Cases  Deaths  Active\n",
       "32      Telangana             2792      88    1213\n",
       "33        Tripura              423       0     250\n",
       "34  Uttar Pradesh             8361     222    3109\n",
       "35    Uttarakhand              959       5     729\n",
       "36    West Bengal             5772     325    3141"
      ]
     },
     "execution_count": 5,
     "metadata": {},
     "output_type": "execute_result"
    }
   ],
   "source": [
    "state_data.tail()"
   ]
  },
  {
   "cell_type": "code",
   "execution_count": 6,
   "metadata": {},
   "outputs": [
    {
     "data": {
      "text/plain": [
       "<matplotlib.axes._subplots.AxesSubplot at 0x1c6e3e7ef88>"
      ]
     },
     "execution_count": 6,
     "metadata": {},
     "output_type": "execute_result"
    },
    {
     "data": {
      "image/png": "[encoded data removed]",
      "text/plain": [
       "<Figure size 1296x360 with 1 Axes>"
      ]
     },
     "metadata": {
      "needs_background": "light"
     },
     "output_type": "display_data"
    }
   ],
   "source": [
    "state_data_plot = pd.DataFrame(state_data.iloc[:,0:].values, columns = ['States','Confirmed_Cases', 'Deaths','Active'])\n",
    "state_data_plot.set_index('States', inplace=True)\n",
    "state_data_plot.plot(figsize=(18,5), linewidth=5, fontsize=20)"
   ]
  },
  {
   "cell_type": "code",
   "execution_count": 7,
   "metadata": {},
   "outputs": [
    {
     "data": {
      "text/plain": [
       "Text(0.5, 1.0, 'States with maximum confirmed cases')"
      ]
     },
     "execution_count": 7,
     "metadata": {},
     "output_type": "execute_result"
    },
    {
     "data": {
      "image/png": "[encoded data removed]",
      "text/plain": [
       "<Figure size 1080x432 with 1 Axes>"
      ]
     },
     "metadata": {
      "needs_background": "light"
     },
     "output_type": "display_data"
    }
   ],
   "source": [
    "covid_data_states = state_data.sort_values(by='Confirmed_Cases', ascending=False)\n",
    "fig=plt.figure(figsize=(15, 6))\n",
    "plt.bar(covid_data_states['States'][:5],covid_data_states['Active'][:5],align='center')\n",
    "plt.ylabel('Number of Confirmed Cases', size = 12)\n",
    "plt.title('States with maximum confirmed cases', size = 16)"
   ]
  },
  {
   "cell_type": "code",
   "execution_count": 8,
   "metadata": {},
   "outputs": [
    {
     "name": "stdout",
     "output_type": "stream",
     "text": [
      "Current active cases in India as of 02/06/2020 11:14:03 ----> 97914 \n",
      "Current confirmed cases in India as of 02/06/2020 11:14:03 ----> 199343 \n",
      "Current death cases in India as of 02/06/2020 11:14:03 ----> 5610 \n"
     ]
    }
   ],
   "source": [
    "response3= requests.get(\"https://thecampfire.in/api/get_daily_count\")\n",
    "data4 = response3.json()\n",
    "print(\"Current active cases in India as of {} ----> {} \".format(data4['lastupdatedtime'], data4['active']))\n",
    "print(\"Current confirmed cases in India as of {} ----> {} \".format(data4['lastupdatedtime'], data4['confirmed']))\n",
    "print(\"Current death cases in India as of {} ----> {} \".format(data4['lastupdatedtime'], data4['deaths']))"
   ]
  },
  {
   "cell_type": "code",
   "execution_count": 9,
   "metadata": {},
   "outputs": [
    {
     "name": "stdout",
     "output_type": "stream",
     "text": [
      "Alipurduar\n",
      "Confirmed:  5\n",
      "Active:  5\n",
      "Deceased:  0\n",
      "------------------------\n",
      "Bankura\n",
      "Confirmed:  43\n",
      "Active:  25\n",
      "Deceased:  0\n",
      "------------------------\n",
      "Birbhum\n",
      "Confirmed:  160\n",
      "Active:  97\n",
      "Deceased:  0\n",
      "------------------------\n",
      "Cooch Behar\n",
      "Confirmed:  87\n",
      "Active:  87\n",
      "Deceased:  0\n",
      "------------------------\n",
      "Dakshin Dinajpur\n",
      "Confirmed:  25\n",
      "Active:  19\n",
      "Deceased:  0\n",
      "------------------------\n",
      "Darjeeling\n",
      "Confirmed:  27\n",
      "Active:  17\n",
      "Deceased:  1\n",
      "------------------------\n",
      "Hooghly\n",
      "Confirmed:  306\n",
      "Active:  134\n",
      "Deceased:  11\n",
      "------------------------\n",
      "Howrah\n",
      "Confirmed:  1107\n",
      "Active:  631\n",
      "Deceased:  38\n",
      "------------------------\n",
      "Jalpaiguri\n",
      "Confirmed:  15\n",
      "Active:  11\n",
      "Deceased:  0\n",
      "------------------------\n",
      "Jhargram\n",
      "Confirmed:  6\n",
      "Active:  3\n",
      "Deceased:  0\n",
      "------------------------\n",
      "Kalimpong\n",
      "Confirmed:  7\n",
      "Active:  0\n",
      "Deceased:  1\n",
      "------------------------\n",
      "Kolkata\n",
      "Confirmed:  2179\n",
      "Active:  1040\n",
      "Deceased:  214\n",
      "------------------------\n",
      "Malda\n",
      "Confirmed:  142\n",
      "Active:  84\n",
      "Deceased:  0\n",
      "------------------------\n",
      "Murshidabad\n",
      "Confirmed:  98\n",
      "Active:  46\n",
      "Deceased:  2\n",
      "------------------------\n",
      "Nadia\n",
      "Confirmed:  92\n",
      "Active:  77\n",
      "Deceased:  1\n",
      "------------------------\n",
      "North 24 Parganas\n",
      "Confirmed:  753\n",
      "Active:  420\n",
      "Deceased:  44\n",
      "------------------------\n",
      "Other State\n",
      "Confirmed:  59\n",
      "Active:  42\n",
      "Deceased:  3\n",
      "------------------------\n",
      "Paschim Bardhaman\n",
      "Confirmed:  56\n",
      "Active:  32\n",
      "Deceased:  2\n",
      "------------------------\n",
      "Paschim Medinipur\n",
      "Confirmed:  40\n",
      "Active:  12\n",
      "Deceased:  1\n",
      "------------------------\n",
      "Purba Bardhaman\n",
      "Confirmed:  95\n",
      "Active:  53\n",
      "Deceased:  0\n",
      "------------------------\n",
      "Purba Medinipur\n",
      "Confirmed:  108\n",
      "Active:  61\n",
      "Deceased:  1\n",
      "------------------------\n",
      "Purulia\n",
      "Confirmed:  7\n",
      "Active:  7\n",
      "Deceased:  0\n",
      "------------------------\n",
      "South 24 Parganas\n",
      "Confirmed:  196\n",
      "Active:  108\n",
      "Deceased:  6\n",
      "------------------------\n",
      "Uttar Dinajpur\n",
      "Confirmed:  159\n",
      "Active:  130\n",
      "Deceased:  0\n",
      "------------------------\n"
     ]
    }
   ],
   "source": [
    "response2 = requests.get(\"https://thecampfire.in/api/state_data\")\n",
    "data3 = response2.json()\n",
    "#state = print(\"Enter state name to get all district details: \")\n",
    "state = \"West Bengal\"\n",
    "for i in range (0, len(data3)):\n",
    "    if data3[i]['state'] == state:\n",
    "        selected_state_districts = data3[i]['districtData']\n",
    "        for i in selected_state_districts:\n",
    "            print(i['district'])\n",
    "            print(\"Confirmed: \",i['confirmed'])\n",
    "            print(\"Active: \",i['active'])\n",
    "            print(\"Deceased: \",i['deceased'])\n",
    "            print('------------------------')"
   ]
  },
  {
   "cell_type": "code",
   "execution_count": 10,
   "metadata": {},
   "outputs": [
    {
     "data": {
      "text/plain": [
       "Text(0.5, 1.0, 'Age  Categorisation')"
      ]
     },
     "execution_count": 10,
     "metadata": {},
     "output_type": "execute_result"
    },
    {
     "data": {
      "image/png": "[encoded data removed]",
      "text/plain": [
       "<Figure size 1080x432 with 1 Axes>"
      ]
     },
     "metadata": {
      "needs_background": "light"
     },
     "output_type": "display_data"
    }
   ],
   "source": [
    "response4 = requests.get(\"https://thecampfire.in/api/age_count_data\")\n",
    "data5 = response4.json()\n",
    "age_list = pd.DataFrame(data5.items())\n",
    "age_cat = [\"1-10\",\"10-25\",\"25-50\",\"50-70\",\"Above 70\",\"Not disclosed\"]\n",
    "fig=plt.figure(figsize=(15, 6))\n",
    "plt.bar(age_cat,age_list[1],align='center')\n",
    "plt.ylabel('Number of Confirmed Cases', size = 12)\n",
    "plt.title('Age  Categorisation', size = 16)"
   ]
  },
  {
   "cell_type": "code",
   "execution_count": 11,
   "metadata": {},
   "outputs": [],
   "source": [
    "response5 = requests.get(\"https://thecampfire.in/api/daily_total_updates\")\n",
    "data6 = response5.json()\n",
    "covid_updates = pd.DataFrame(data6, columns=['Date','Confirmed','Recovered','Deceased'])"
   ]
  },
  {
   "cell_type": "code",
   "execution_count": 12,
   "metadata": {},
   "outputs": [
    {
     "data": {
      "text/html": [
       "<div>\n",
       "<style scoped>\n",
       "    .dataframe tbody tr th:only-of-type {\n",
       "        vertical-align: middle;\n",
       "    }\n",
       "\n",
       "    .dataframe tbody tr th {\n",
       "        vertical-align: top;\n",
       "    }\n",
       "\n",
       "    .dataframe thead th {\n",
       "        text-align: right;\n",
       "    }\n",
       "</style>\n",
       "<table border=\"1\" class=\"dataframe\">\n",
       "  <thead>\n",
       "    <tr style=\"text-align: right;\">\n",
       "      <th></th>\n",
       "      <th>Date</th>\n",
       "      <th>Confirmed</th>\n",
       "      <th>Recovered</th>\n",
       "      <th>Deceased</th>\n",
       "    </tr>\n",
       "  </thead>\n",
       "  <tbody>\n",
       "    <tr>\n",
       "      <th>0</th>\n",
       "      <td>17 May</td>\n",
       "      <td>5049</td>\n",
       "      <td>152</td>\n",
       "      <td>2538</td>\n",
       "    </tr>\n",
       "    <tr>\n",
       "      <th>1</th>\n",
       "      <td>18 May</td>\n",
       "      <td>4628</td>\n",
       "      <td>131</td>\n",
       "      <td>2482</td>\n",
       "    </tr>\n",
       "    <tr>\n",
       "      <th>2</th>\n",
       "      <td>19 May</td>\n",
       "      <td>6154</td>\n",
       "      <td>146</td>\n",
       "      <td>3032</td>\n",
       "    </tr>\n",
       "    <tr>\n",
       "      <th>3</th>\n",
       "      <td>20 May</td>\n",
       "      <td>5720</td>\n",
       "      <td>134</td>\n",
       "      <td>3113</td>\n",
       "    </tr>\n",
       "    <tr>\n",
       "      <th>4</th>\n",
       "      <td>21 May</td>\n",
       "      <td>6023</td>\n",
       "      <td>148</td>\n",
       "      <td>3131</td>\n",
       "    </tr>\n",
       "  </tbody>\n",
       "</table>\n",
       "</div>"
      ],
      "text/plain": [
       "      Date Confirmed Recovered Deceased\n",
       "0  17 May       5049       152     2538\n",
       "1  18 May       4628       131     2482\n",
       "2  19 May       6154       146     3032\n",
       "3  20 May       5720       134     3113\n",
       "4  21 May       6023       148     3131"
      ]
     },
     "execution_count": 12,
     "metadata": {},
     "output_type": "execute_result"
    }
   ],
   "source": [
    "covid_updates.head()"
   ]
  },
  {
   "cell_type": "code",
   "execution_count": 13,
   "metadata": {},
   "outputs": [
    {
     "data": {
      "text/html": [
       "<div>\n",
       "<style scoped>\n",
       "    .dataframe tbody tr th:only-of-type {\n",
       "        vertical-align: middle;\n",
       "    }\n",
       "\n",
       "    .dataframe tbody tr th {\n",
       "        vertical-align: top;\n",
       "    }\n",
       "\n",
       "    .dataframe thead th {\n",
       "        text-align: right;\n",
       "    }\n",
       "</style>\n",
       "<table border=\"1\" class=\"dataframe\">\n",
       "  <thead>\n",
       "    <tr style=\"text-align: right;\">\n",
       "      <th></th>\n",
       "      <th>Date</th>\n",
       "      <th>Confirmed</th>\n",
       "      <th>Recovered</th>\n",
       "      <th>Deceased</th>\n",
       "    </tr>\n",
       "  </thead>\n",
       "  <tbody>\n",
       "    <tr>\n",
       "      <th>11</th>\n",
       "      <td>28 May</td>\n",
       "      <td>7254</td>\n",
       "      <td>176</td>\n",
       "      <td>3171</td>\n",
       "    </tr>\n",
       "    <tr>\n",
       "      <th>12</th>\n",
       "      <td>29 May</td>\n",
       "      <td>8138</td>\n",
       "      <td>269</td>\n",
       "      <td>11735</td>\n",
       "    </tr>\n",
       "    <tr>\n",
       "      <th>13</th>\n",
       "      <td>30 May</td>\n",
       "      <td>8364</td>\n",
       "      <td>205</td>\n",
       "      <td>4303</td>\n",
       "    </tr>\n",
       "    <tr>\n",
       "      <th>14</th>\n",
       "      <td>31 May</td>\n",
       "      <td>8789</td>\n",
       "      <td>222</td>\n",
       "      <td>4928</td>\n",
       "    </tr>\n",
       "    <tr>\n",
       "      <th>15</th>\n",
       "      <td>01 June</td>\n",
       "      <td>7722</td>\n",
       "      <td>201</td>\n",
       "      <td>3892</td>\n",
       "    </tr>\n",
       "  </tbody>\n",
       "</table>\n",
       "</div>"
      ],
      "text/plain": [
       "        Date Confirmed Recovered Deceased\n",
       "11   28 May       7254       176     3171\n",
       "12   29 May       8138       269    11735\n",
       "13   30 May       8364       205     4303\n",
       "14   31 May       8789       222     4928\n",
       "15  01 June       7722       201     3892"
      ]
     },
     "execution_count": 13,
     "metadata": {},
     "output_type": "execute_result"
    }
   ],
   "source": [
    "covid_updates.tail()"
   ]
  },
  {
   "cell_type": "code",
   "execution_count": 14,
   "metadata": {},
   "outputs": [],
   "source": [
    "response = requests.get(\"https://api.covid19india.org/data.json\")\n",
    "data1 = response.json()\n",
    "case_time_series_data = data1['cases_time_series']\n",
    "data_len = len(case_time_series_data)\n",
    "data = []\n",
    "#totalDataList = []\n",
    "for i in range (0, data_len):\n",
    "    #print(i)\n",
    "    date = case_time_series_data[i]['date'] + \"2020\"\n",
    "    #print(date)\n",
    "    confirmed = int(case_time_series_data[i]['dailyconfirmed'])\n",
    "    deceased = int(case_time_series_data[i]['dailydeceased'])\n",
    "    recovered = int(case_time_series_data[i]['dailyrecovered'])\n",
    "    totalconfirmed = int(case_time_series_data[i]['totalconfirmed'])\n",
    "    data.append([date,confirmed,deceased,recovered,totalconfirmed])"
   ]
  },
  {
   "cell_type": "code",
   "execution_count": null,
   "metadata": {},
   "outputs": [],
   "source": [
    "df = pd.DataFrame(data, columns = ['date','confirmed','deceased','recovered','totalconfirmed'])\n"
   ]
  },
  {
   "cell_type": "code",
   "execution_count": null,
   "metadata": {},
   "outputs": [],
   "source": [
    "from datetime import datetime\n",
    "\n",
    "for i in range(0, len(df)):\n",
    "    date = df['date'][i]\n",
    "    df['date'][i] = datetime.strptime(date, '%d %B %Y')"
   ]
  },
  {
   "cell_type": "code",
   "execution_count": null,
   "metadata": {},
   "outputs": [],
   "source": [
    "plot_data = pd.DataFrame(df.iloc[:,0:].values, columns = ['date','confirmed','deceased','recovered','totalconfirmed'])\n"
   ]
  },
  {
   "cell_type": "code",
   "execution_count": null,
   "metadata": {},
   "outputs": [],
   "source": [
    "plot_data[['confirmed']].tail()"
   ]
  },
  {
   "cell_type": "code",
   "execution_count": null,
   "metadata": {},
   "outputs": [],
   "source": [
    "plot_data[['confirmed']].plot(figsize=(20,10), linewidth=5, fontsize=20)"
   ]
  },
  {
   "cell_type": "code",
   "execution_count": null,
   "metadata": {},
   "outputs": [],
   "source": [
    "confirmed = plot_data[['confirmed']]"
   ]
  },
  {
   "cell_type": "code",
   "execution_count": null,
   "metadata": {},
   "outputs": [],
   "source": [
    "from statsmodels.tsa.stattools import adfuller\n",
    "def check_time_series_stationarity(timeseries):\n",
    "    rolmean = pd.Series(timeseries).rolling(window=15).mean()\n",
    "    rolstd = pd.Series(timeseries).rolling(window=15).std()\n",
    "    orig = plt.plot(timeseries, color='blue',label='Original')\n",
    "    mean = plt.plot(rolmean, color='red', label='Rolling Mean')\n",
    "    std = plt.plot(rolstd, color='black', label = 'Rolling Std')\n",
    "    plt.legend(loc='best')\n",
    "    plt.title('Rolling Mean & Standard Deviation')\n",
    "    plt.show(block=False)\n",
    "    \n",
    "    print('------------------------------')\n",
    "    print('Dickey-Fuller Test')\n",
    "    dftest = adfuller(timeseries, autolag='AIC')\n",
    "    dfoutput = pd.Series(dftest[0:4], index=['Test Statistic','p-value','#Lags Used','Number of Observations Used'])\n",
    "    for key,value in dftest[4].items():\n",
    "        dfoutput['Critical Value (%s)'%key] = value\n",
    "    print(dfoutput)"
   ]
  },
  {
   "cell_type": "code",
   "execution_count": null,
   "metadata": {},
   "outputs": [],
   "source": [
    "#Estimating & Eliminating Trend\n",
    "confirmed_log = np.log(confirmed)\n",
    "plt.plot(confirmed_log)"
   ]
  },
  {
   "cell_type": "code",
   "execution_count": null,
   "metadata": {},
   "outputs": [],
   "source": [
    "#Moving average\n",
    "moving_avg = pd.Series(confirmed_log).rolling(window=15).mean()\n",
    "plt.plot(confirmed_log)\n",
    "plt.plot(moving_avg, color='red')"
   ]
  },
  {
   "cell_type": "code",
   "execution_count": null,
   "metadata": {},
   "outputs": [],
   "source": [
    "confirmed_log_moving_avg_diff = confirmed_log - moving_avg\n",
    "confirmed_log_moving_avg_diff.head(15)"
   ]
  },
  {
   "cell_type": "code",
   "execution_count": null,
   "metadata": {},
   "outputs": [],
   "source": [
    "confirmed_log_moving_avg_diff.dropna(inplace=True)\n",
    "check_time_series_stationarity(confirmed_log_moving_avg_diff)"
   ]
  },
  {
   "cell_type": "code",
   "execution_count": null,
   "metadata": {},
   "outputs": [],
   "source": [
    "from statsmodels.tsa.seasonal import seasonal_decompose\n",
    "cnf = plot_data['confirmed']\n",
    "for i in range (0, len(cnf)):\n",
    "    val = cnf[i]\n",
    "    if val == 0:\n",
    "        cnf[i] = 1\n",
    "decomposition = seasonal_decompose(cnf)\n",
    "trend = decomposition.trend\n",
    "seasonal = decomposition.seasonal\n",
    "residual = decomposition.resid\n",
    "fig=plt.figure(figsize=(15, 6))\n",
    "plt.subplot(411)\n",
    "plt.plot(cnf, label='Original')\n",
    "plt.legend(loc='best')\n",
    "plt.subplot(412)\n",
    "plt.plot(trend, label='Trend')\n",
    "plt.legend(loc='best')\n",
    "plt.subplot(413)\n",
    "plt.plot(seasonal,label='Seasonality')\n",
    "plt.legend(loc='best')\n",
    "plt.subplot(414)\n",
    "plt.plot(residual, label='Residuals')\n",
    "plt.legend(loc='best')\n",
    "plt.tight_layout()"
   ]
  },
  {
   "cell_type": "code",
   "execution_count": null,
   "metadata": {},
   "outputs": [],
   "source": [
    "cnf_decompose = residual\n",
    "cnf_decompose.dropna(inplace=True)\n",
    "check_time_series_stationarity(cnf_decompose)"
   ]
  }
 ],
 "metadata": {
  "kernelspec": {
   "display_name": "Python 3",
   "language": "python",
   "name": "python3"
  },
  "language_info": {
   "codemirror_mode": {
    "name": "ipython",
    "version": 3
   },
   "file_extension": ".py",
   "mimetype": "text/x-python",
   "name": "python",
   "nbconvert_exporter": "python",
   "pygments_lexer": "ipython3",
   "version": "3.7.6"
  }
 },
 "nbformat": 4,
 "nbformat_minor": 4
}
